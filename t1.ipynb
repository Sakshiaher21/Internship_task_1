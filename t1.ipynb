{
 "cells": [
  {
   "cell_type": "code",
   "execution_count": 1,
   "metadata": {},
   "outputs": [],
   "source": [
    "import pandas as pd\n",
    "df=pd.read_csv(\"task1.csv\",sep=';')\n",
    "\n",
    "\n",
    "\n",
    "\n",
    "\n"
   ]
  },
  {
   "cell_type": "code",
   "execution_count": null,
   "id": "584badd2",
   "metadata": {},
   "outputs": [],
   "source": []
  },
  {
   "cell_type": "code",
   "execution_count": 2,
   "id": "5430078c",
   "metadata": {},
   "outputs": [
    {
     "name": "stdout",
     "output_type": "stream",
     "text": [
      "  PatientId,AppointmentID,Gender,ScheduledDay,AppointmentDay,Age,Neighbourhood,Scholarship,Hipertension,Diabetes,Alcoholism,Handcap,SMS_received,No-show,,\n",
      "0  2.99E+13,5642903,F,2016-04-29T18:38:08Z,2016-0...                                                                                                      \n",
      "1  5.59E+14,5642503,M,2016-04-29T16:08:27Z,2016-0...                                                                                                      \n",
      "2  4.26E+12,5642549,F,2016-04-29T16:19:04Z,2016-0...                                                                                                      \n",
      "3  8.68E+11,5642828,F,2016-04-29T17:29:31Z,2016-0...                                                                                                      \n",
      "4  8.84E+12,5642494,F,2016-04-29T16:07:23Z,2016-0...                                                                                                      \n",
      "<class 'pandas.core.frame.DataFrame'>\n",
      "RangeIndex: 110527 entries, 0 to 110526\n",
      "Data columns (total 1 columns):\n",
      " #   Column                                                                                                                                                    Non-Null Count   Dtype \n",
      "---  ------                                                                                                                                                    --------------   ----- \n",
      " 0   PatientId,AppointmentID,Gender,ScheduledDay,AppointmentDay,Age,Neighbourhood,Scholarship,Hipertension,Diabetes,Alcoholism,Handcap,SMS_received,No-show,,  110527 non-null  object\n",
      "dtypes: object(1)\n",
      "memory usage: 863.6+ KB\n",
      "None\n"
     ]
    }
   ],
   "source": [
    "print(df.head())\n",
    "print(df.info())"
   ]
  },
  {
   "cell_type": "code",
   "execution_count": 3,
   "id": "012ce2c3",
   "metadata": {},
   "outputs": [
    {
     "name": "stdout",
     "output_type": "stream",
     "text": [
      "        PatientId,AppointmentID,Gender,ScheduledDay,AppointmentDay,Age,Neighbourhood,Scholarship,Hipertension,Diabetes,Alcoholism,Handcap,SMS_received,No-show,,\n",
      "0                                                   False                                                                                                       \n",
      "1                                                   False                                                                                                       \n",
      "2                                                   False                                                                                                       \n",
      "3                                                   False                                                                                                       \n",
      "4                                                   False                                                                                                       \n",
      "...                                                   ...                                                                                                       \n",
      "110522                                              False                                                                                                       \n",
      "110523                                              False                                                                                                       \n",
      "110524                                              False                                                                                                       \n",
      "110525                                              False                                                                                                       \n",
      "110526                                              False                                                                                                       \n",
      "\n",
      "[110527 rows x 1 columns]\n"
     ]
    }
   ],
   "source": [
    "#Handle Missing Values\n",
    "print(df.isnull())\n",
    "df=df.dropna()\n"
   ]
  },
  {
   "cell_type": "code",
   "execution_count": 4,
   "id": "82e8ea05",
   "metadata": {},
   "outputs": [],
   "source": [
    "#remove duplicates\n",
    "df=df.drop_duplicates()\n",
    "\n"
   ]
  },
  {
   "cell_type": "code",
   "execution_count": 9,
   "id": "3fc8f6ff",
   "metadata": {},
   "outputs": [],
   "source": [
    "df.to_csv(\"cleaned_data.csv\",index=False)"
   ]
  },
  {
   "cell_type": "code",
   "execution_count": null,
   "id": "16176083",
   "metadata": {},
   "outputs": [],
   "source": []
  }
 ],
 "metadata": {
  "kernelspec": {
   "display_name": "Python 3",
   "language": "python",
   "name": "python3"
  },
  "language_info": {
   "codemirror_mode": {
    "name": "ipython",
    "version": 3
   },
   "file_extension": ".py",
   "mimetype": "text/x-python",
   "name": "python",
   "nbconvert_exporter": "python",
   "pygments_lexer": "ipython3",
   "version": "3.12.4"
  }
 },
 "nbformat": 4,
 "nbformat_minor": 5
}
